{
 "cells": [
  {
   "cell_type": "markdown",
   "id": "efb3b03d-c7e4-4fff-875a-d19a840ff655",
   "metadata": {},
   "source": [
    "# Data Science Tools and Ecosystem #"
   ]
  },
  {
   "cell_type": "markdown",
   "id": "8722f03e-35cc-44ae-b9e6-7a9d3148bf42",
   "metadata": {},
   "source": [
    "## In this notebook, Data Science Tools and Ecosystem are summarized. ##"
   ]
  },
  {
   "cell_type": "markdown",
   "id": "94865d32-f2f4-4e67-81a9-ba9781bee081",
   "metadata": {},
   "source": [
    "***Objectives:***\n",
    "- Learn the tools used for data science\n",
    "- Learn the libraries used for data science\n",
    "- Hands on labs for some of the tools of data science"
   ]
  },
  {
   "cell_type": "markdown",
   "id": "30024168-3c36-4b68-b34b-20d5aefef2af",
   "metadata": {},
   "source": [
    "## Author ## \n",
    "Abhishek Verma"
   ]
  },
  {
   "cell_type": "markdown",
   "id": "6f2084d4-f569-44f1-8476-f97d069920e3",
   "metadata": {},
   "source": [
    "### Some of the popular languages that Data Scientists use are: ###\n",
    "\n",
    "1. Python\n",
    "2. R\n",
    "3. Java\n",
    "4. Scala"
   ]
  },
  {
   "cell_type": "markdown",
   "id": "fd59019d-f8eb-403e-be16-30bb78bb0a82",
   "metadata": {},
   "source": [
    "### Some of the commonly used libraries used by Data Scientists include: ###\n",
    "\n",
    "1. NumPy\n",
    "2. MatPlotLib\n",
    "3. SciPy\n",
    "4. pandas"
   ]
  },
  {
   "cell_type": "markdown",
   "id": "c9fd43db-90c0-442a-9491-c79a7e2146b5",
   "metadata": {},
   "source": [
    "|Data Science Tools|\n",
    "|:----------------:|\n",
    "|Apache Spark      |\n",
    "|Tensoflow         |\n",
    "|Jupyter Labs      |"
   ]
  },
  {
   "cell_type": "markdown",
   "id": "3bf81ec0-a644-4744-a0ed-d0f99bef084f",
   "metadata": {},
   "source": [
    "### Below are a few examples of evaluating arithmetic expressions in Python ###"
   ]
  },
  {
   "cell_type": "code",
   "execution_count": 1,
   "id": "7c806daf-027e-4dd5-936c-352359ef111c",
   "metadata": {
    "tags": []
   },
   "outputs": [
    {
     "name": "stdout",
     "output_type": "stream",
     "text": [
      "This a simple arithmetic expression to mutiply then add integers 17\n"
     ]
    }
   ],
   "source": [
    "print(\"This a simple arithmetic expression to mutiply then add integers\",(3*4)+5)"
   ]
  },
  {
   "cell_type": "code",
   "execution_count": 2,
   "id": "0abb6933-d8f2-4d6c-9903-e0ac52089534",
   "metadata": {
    "tags": []
   },
   "outputs": [
    {
     "name": "stdout",
     "output_type": "stream",
     "text": [
      "This will convert 200 minutes to hours by diving by 60 3.3333333333333335\n"
     ]
    }
   ],
   "source": [
    "print(\"This will convert 200 minutes to hours by diving by 60\", 200/60)"
   ]
  }
 ],
 "metadata": {
  "kernelspec": {
   "display_name": "Python",
   "language": "python",
   "name": "conda-env-python-py"
  },
  "language_info": {
   "codemirror_mode": {
    "name": "ipython",
    "version": 3
   },
   "file_extension": ".py",
   "mimetype": "text/x-python",
   "name": "python",
   "nbconvert_exporter": "python",
   "pygments_lexer": "ipython3",
   "version": "3.7.12"
  }
 },
 "nbformat": 4,
 "nbformat_minor": 5
}
